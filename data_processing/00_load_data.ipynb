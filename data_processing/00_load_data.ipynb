{
 "cells": [
  {
   "cell_type": "markdown",
   "id": "b3373946",
   "metadata": {},
   "source": [
    "## Step 00: Load data\n",
    "\n",
    "In this notebook, we retrieve the dataset \"Crop mapping using fused optical-radar data set\" from the UC Irvine Machine Learning Repository and unzip the file into the directory \"../data/crop_mapping/\". We also scrape the dataset's web page for the list of variable attributes and save this list to a file \"features.txt\"."
   ]
  },
  {
   "cell_type": "code",
   "execution_count": 1,
   "id": "769e1a5a-7cd8-44c8-8c37-f8b89444e5b9",
   "metadata": {},
   "outputs": [],
   "source": [
    "import os\n",
    "import urllib.request as request\n",
    "import zipfile\n",
    "from pathlib import Path\n",
    "\n",
    "from bs4 import BeautifulSoup"
   ]
  },
  {
   "cell_type": "code",
   "execution_count": 2,
   "id": "6dd2c6d1-bed5-4ab6-a6ad-e060c2b61af0",
   "metadata": {},
   "outputs": [],
   "source": [
    "DATA_PUBLIC_URLS = {\n",
    "    'crop_mapping': 'https://archive.ics.uci.edu/static/public/525/crop+mapping+using+fused+optical+radar+data+set.zip'\n",
    "}"
   ]
  },
  {
   "cell_type": "code",
   "execution_count": 3,
   "id": "af6714d7-9471-4940-ba7c-27934c1f7b6f",
   "metadata": {},
   "outputs": [],
   "source": [
    "def download_file(dataset_name, url):\n",
    "    filename, headers = request.urlretrieve(\n",
    "        url = url,\n",
    "        filename = f\"../data/{dataset_name}.zip\"\n",
    "    )\n",
    "\n",
    "def extract_zip_file(dataset_name):\n",
    "    zipfile_name = f\"../data/{dataset_name}.zip\"\n",
    "    unzip_path = f\"../data/{dataset_name}\"\n",
    "    os.makedirs(unzip_path, exist_ok=True)\n",
    "    with zipfile.ZipFile(zipfile_name, 'r') as zip_ref:\n",
    "        zip_ref.extractall(unzip_path)"
   ]
  },
  {
   "cell_type": "code",
   "execution_count": 4,
   "id": "ab78e21a-12ab-47fe-9e83-e87c331acbb0",
   "metadata": {},
   "outputs": [],
   "source": [
    "if not os.path.exists(\"../data\"):\n",
    "    os.mkdir(\"../data\")"
   ]
  },
  {
   "cell_type": "code",
   "execution_count": 5,
   "id": "cd1044f8-3987-48ba-bcf4-9949f6933b26",
   "metadata": {
    "scrolled": true
   },
   "outputs": [],
   "source": [
    "# Download crop mapping data\n",
    "dataset_name = 'crop_mapping'\n",
    "url = DATA_PUBLIC_URLS[dataset_name]\n",
    "download_file(dataset_name, url)\n",
    "extract_zip_file(dataset_name)"
   ]
  },
  {
   "cell_type": "code",
   "execution_count": 6,
   "id": "ff48ae37-3290-428d-bf1c-650152df28f5",
   "metadata": {},
   "outputs": [],
   "source": [
    "# Fix crop mapping data filename\n",
    "os.replace(f\"../data/crop_mapping/WinnipegDataset.txt\", f\"../data/crop_mapping/WinnipegDataset.csv\")"
   ]
  },
  {
   "cell_type": "code",
   "execution_count": 7,
   "id": "c8671a39-a2bf-491a-b3f5-480a4ad950ac",
   "metadata": {},
   "outputs": [],
   "source": [
    "# Retrieve crop mapping features\n",
    "response = request.urlopen('https://archive.ics.uci.edu/dataset/525/crop+mapping+using+fused+optical+radar+data+set')\n",
    "if response.status == 200:\n",
    "    html_content = response.read()\n",
    "else:\n",
    "    print(\"Failed to retrieve the page. Status code:\", response.status)"
   ]
  },
  {
   "cell_type": "code",
   "execution_count": 8,
   "id": "7af9f1b8-da96-4fc8-be2c-51064776356a",
   "metadata": {},
   "outputs": [],
   "source": [
    "soup = BeautifulSoup(html_content, 'html.parser')\n",
    "features_description = soup.find_all(\"p\",attrs={\"class\":\"whitespace-pre-wrap svelte-1xc1tf7\"})[2].text\n",
    "features = features_description[features_description.index('label'): features_description.index('For more information') - 4]\n",
    "features = ''.join(features.split('\\r'))"
   ]
  },
  {
   "cell_type": "code",
   "execution_count": 9,
   "id": "2d51e802-133d-49b1-bde1-ba04e7080d6b",
   "metadata": {},
   "outputs": [],
   "source": [
    "with open(\"../data/crop_mapping/features.txt\", \"w\") as features_file:\n",
    "    features_file.write(features)"
   ]
  },
  {
   "cell_type": "code",
   "execution_count": null,
   "id": "80ca7dd6-3beb-4fe3-96ce-07eee2944944",
   "metadata": {},
   "outputs": [],
   "source": []
  },
  {
   "cell_type": "code",
   "execution_count": null,
   "id": "df8b3d1a-b6b9-4034-a81a-c49ceac1375e",
   "metadata": {},
   "outputs": [],
   "source": []
  }
 ],
 "metadata": {
  "kernelspec": {
   "display_name": "Python 3 (ipykernel)",
   "language": "python",
   "name": "python3"
  },
  "language_info": {
   "codemirror_mode": {
    "name": "ipython",
    "version": 3
   },
   "file_extension": ".py",
   "mimetype": "text/x-python",
   "name": "python",
   "nbconvert_exporter": "python",
   "pygments_lexer": "ipython3",
   "version": "3.12.7"
  }
 },
 "nbformat": 4,
 "nbformat_minor": 5
}
