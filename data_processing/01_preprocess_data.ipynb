{
 "cells": [
  {
   "cell_type": "markdown",
   "id": "2eb1f24b",
   "metadata": {},
   "source": [
    "## Step 01: Preprocess data\n",
    "\n",
    "In this notebook, we preprocess the crop mapping data \"WinnipegDataset.csv\". We parse the list of features in \"features.txt\" and set these as the column names. We split the dataset according to whether data points were collected on 05 July or 14 July. The 05 July data will be used to train Quiver PCA, and the 14 July data will be used as a test set to evaluate its effectiveness. We sample 20% of the data to reduce computational complexity, maintaining the relative frequency of each class."
   ]
  },
  {
   "cell_type": "code",
   "execution_count": 1,
   "id": "54976a6d-3aeb-4b56-b9d2-b1d2a03ca46a",
   "metadata": {},
   "outputs": [],
   "source": [
    "import pandas as pd"
   ]
  },
  {
   "cell_type": "code",
   "execution_count": 2,
   "id": "8cd3eeb0-2436-4467-9e1b-4f65b380e24c",
   "metadata": {},
   "outputs": [],
   "source": [
    "crops = pd.read_csv('../data/crop_mapping/WinnipegDataset.csv')"
   ]
  },
  {
   "cell_type": "code",
   "execution_count": 3,
   "id": "ebe48d98-3388-4171-941e-df82f8d45221",
   "metadata": {},
   "outputs": [],
   "source": [
    "with open('../data/crop_mapping/features.txt', 'r') as features:\n",
    "    features_lines = features.readlines()\n",
    "    feature_dict = {}\n",
    "    type_dict = {}\n",
    "    for line in features_lines:\n",
    "        line = line.replace('\\n', '')\n",
    "        key, val = line.split(':')\n",
    "        feature_dict[key] = val"
   ]
  },
  {
   "cell_type": "code",
   "execution_count": 4,
   "id": "dae69bb3-9a08-430f-af81-3847e2b9d7e6",
   "metadata": {},
   "outputs": [],
   "source": [
    "crops.rename(columns=feature_dict, inplace=True)"
   ]
  },
  {
   "cell_type": "code",
   "execution_count": 5,
   "id": "381ca6bf-b221-4eea-a559-bb5ec33a380e",
   "metadata": {},
   "outputs": [],
   "source": [
    "crops_05July = crops.filter(regex='05July')\n",
    "crops_05July = pd.concat([crops['crop type class'], crops_05July], axis=1)"
   ]
  },
  {
   "cell_type": "code",
   "execution_count": 6,
   "id": "d0ef9e31-bb4b-4407-89e8-861f5d18f621",
   "metadata": {},
   "outputs": [],
   "source": [
    "crops_14July = crops.filter(regex='14July')\n",
    "crops_14July = pd.concat([crops['crop type class'], crops_14July], axis=1)"
   ]
  },
  {
   "cell_type": "code",
   "execution_count": 14,
   "id": "9d11c64f-662a-4e40-9305-218da526dfa6",
   "metadata": {},
   "outputs": [],
   "source": [
    "# Remove labels from column names (Rad/Opt and 05July/14July)\n",
    "def parse_feature_type(features):\n",
    "    parsed_features = []\n",
    "    type_dict = {}\n",
    "    for s in features:\n",
    "        if not '_' in s:\n",
    "            type_dict[s] = ''\n",
    "            parsed_features.append(s)\n",
    "        else:\n",
    "            key, val = s.split('_')\n",
    "            type_dict[key] = val\n",
    "            parsed_features.append(key)\n",
    "    return parsed_features, type_dict"
   ]
  },
  {
   "cell_type": "code",
   "execution_count": 8,
   "id": "8c128998-fc96-4aa6-9cee-27ce1e4874f0",
   "metadata": {},
   "outputs": [],
   "source": [
    "parsed_features, type_dict = parse_feature_type(list(crops_05July.columns))"
   ]
  },
  {
   "cell_type": "code",
   "execution_count": 9,
   "id": "ce60a787",
   "metadata": {},
   "outputs": [
    {
     "name": "stdout",
     "output_type": "stream",
     "text": [
      "['crop type class', 'sigHH', 'sigHV', 'sigVV', 'sigRR', 'sigRL', 'sigLL', 'Rhhvv', 'Rhvhh', 'Rhvvv', 'Rrrll', 'Rrlrr', 'Rrlll', 'Rhh', 'Rhv', 'Rvv', 'Rrr', 'Rrl', 'Rll', 'Ro12', 'Ro13', 'Ro23', 'Ro12cir', 'Ro13cir', 'Ro23cir', 'l1', 'l2', 'l3', 'H', 'A', 'a', 'HA', 'H1mA', '1mHA', '1mH1mA', 'PH', 'rvi', 'paulalpha', 'paulbeta', 'paulgamma', 'krogks', 'krogkd', 'krogkh', 'freeodd', 'freedbl', 'freevol', 'yamodd', 'yamdbl', 'yamhlx', 'yamvol', 'B', 'G', 'R', 'Redge', 'NIR', 'NDVI', 'SR', 'RGRI', 'EVI', 'ARVI', 'SAVI', 'NDGI', 'gNDVI', 'MTVI2', 'NDVIre', 'SRre', 'NDGIre', 'RTVIcore', 'RNDVI', 'TCARI', 'TVI', 'PRI2', 'MeanPC1', 'VarPC1', 'HomPC1', 'ConPC1', 'DisPC1', 'EntPC1', 'SecMomPC1', 'CorPC1', 'MeanPC2', 'VarPC2', 'HomPC2', 'ConPC2', 'DisPC2', 'EntPC2', 'SecMomPC2', 'CorPC2']\n"
     ]
    }
   ],
   "source": [
    "print(parsed_features)"
   ]
  },
  {
   "cell_type": "code",
   "execution_count": 10,
   "id": "4247790d",
   "metadata": {},
   "outputs": [
    {
     "name": "stdout",
     "output_type": "stream",
     "text": [
      "{'crop type class': '', 'sigHH': 'Rad05July', 'sigHV': 'Rad05July', 'sigVV': 'Rad05July', 'sigRR': 'Rad05July', 'sigRL': 'Rad05July', 'sigLL': 'Rad05July', 'Rhhvv': 'Rad05July', 'Rhvhh': 'Rad05July', 'Rhvvv': 'Rad05July', 'Rrrll': 'Rad05July', 'Rrlrr': 'Rad05July', 'Rrlll': 'Rad05July', 'Rhh': 'Rad05July', 'Rhv': 'Rad05July', 'Rvv': 'Rad05July', 'Rrr': 'Rad05July', 'Rrl': 'Rad05July', 'Rll': 'Rad05July', 'Ro12': 'Rad05July', 'Ro13': 'Rad05July', 'Ro23': 'Rad05July', 'Ro12cir': 'Rad05July', 'Ro13cir': 'Rad05July', 'Ro23cir': 'Rad05July', 'l1': 'Rad05July', 'l2': 'Rad05July', 'l3': 'Rad05July', 'H': 'Rad05July', 'A': 'Rad05July', 'a': 'Rad05July', 'HA': 'Rad05July', 'H1mA': 'Rad05July', '1mHA': 'Rad05July', '1mH1mA': 'Rad05July', 'PH': 'Rad05July', 'rvi': 'Rad05July', 'paulalpha': 'Rad05July', 'paulbeta': 'Rad05July', 'paulgamma': 'Rad05July', 'krogks': 'Rad05July', 'krogkd': 'Rad05July', 'krogkh': 'Rad05July', 'freeodd': 'Rad05July', 'freedbl': 'Rad05July', 'freevol': 'Rad05July', 'yamodd': 'Rad05July', 'yamdbl': 'Rad05July', 'yamhlx': 'Rad05July', 'yamvol': 'Rad05July', 'B': 'Opt05July', 'G': 'Opt05July', 'R': 'Opt05July', 'Redge': 'Opt05July', 'NIR': 'Opt05July', 'NDVI': 'Opt05July', 'SR': 'Opt05July', 'RGRI': 'Opt05July', 'EVI': 'Opt05July', 'ARVI': 'Opt05July', 'SAVI': 'Opt05July', 'NDGI': 'Opt05July', 'gNDVI': 'Opt05July', 'MTVI2': 'Opt05July', 'NDVIre': 'Opt05July', 'SRre': 'Opt05July', 'NDGIre': 'Opt05July', 'RTVIcore': 'Opt05July', 'RNDVI': 'Opt05July', 'TCARI': 'Opt05July', 'TVI': 'Opt05July', 'PRI2': 'Opt05July', 'MeanPC1': 'Opt05July', 'VarPC1': 'Opt05July', 'HomPC1': 'Opt05July', 'ConPC1': 'Opt05July', 'DisPC1': 'Opt05July', 'EntPC1': 'Opt05July', 'SecMomPC1': 'Opt05July', 'CorPC1': 'Opt05July', 'MeanPC2': 'Opt05July', 'VarPC2': 'Opt05July', 'HomPC2': 'Opt05July', 'ConPC2': 'Opt05July', 'DisPC2': 'Opt05July', 'EntPC2': 'Opt05July', 'SecMomPC2': 'Opt05July', 'CorPC2': 'Opt05July'}\n"
     ]
    }
   ],
   "source": [
    "print(type_dict)"
   ]
  },
  {
   "cell_type": "code",
   "execution_count": 11,
   "id": "9fa64641-bfdc-4ca8-8952-01097407f9e1",
   "metadata": {},
   "outputs": [],
   "source": [
    "crops_05July.rename(columns=dict(zip(crops_05July.columns, parsed_features)), inplace=True)\n",
    "crops_14July.rename(columns=dict(zip(crops_14July.columns, parsed_features)), inplace=True)\n",
    "crops_05July.rename({'crop type class': 'class'}, axis=1, inplace=True)\n",
    "crops_14July.rename({'crop type class': 'class'}, axis=1, inplace=True)"
   ]
  },
  {
   "cell_type": "code",
   "execution_count": null,
   "id": "fcc0f8cb-d2b7-4993-983a-c1bec8a02404",
   "metadata": {},
   "outputs": [],
   "source": [
    "# Sample 20% of the data\n",
    "crops_05July_sample = crops_05July.groupby('class').sample(frac=0.2)\n",
    "crops_sample_index = crops_05July_sample.index\n",
    "crops_14July_sample = crops_05July.iloc[crops_sample_index]\n",
    "\n",
    "X_train = crops_05July_sample.drop(['class'], axis=1)\n",
    "X_test = crops_14July_sample.drop(['class'], axis=1)\n",
    "y_train = crops_05July_sample['class']\n",
    "y_test = crops_14July_sample['class']"
   ]
  },
  {
   "cell_type": "code",
   "execution_count": 13,
   "id": "58113193-c655-44be-8802-3e34ec6ec161",
   "metadata": {},
   "outputs": [],
   "source": [
    "X_train.to_csv('../data/crop_mapping/preprocessed_train.csv', mode=\"w\", index=False)\n",
    "X_test.to_csv('../data/crop_mapping/preprocessed_test.csv', mode=\"w\", index=False)\n",
    "y_train.to_csv('../data/crop_mapping/labels_train.csv', mode=\"w\", index=False)\n",
    "y_test.to_csv('../data/crop_mapping/labels_test.csv', mode=\"w\", index=False)"
   ]
  },
  {
   "cell_type": "code",
   "execution_count": null,
   "id": "e7aec722-8232-4f98-8148-ec3a326f05a2",
   "metadata": {},
   "outputs": [],
   "source": []
  }
 ],
 "metadata": {
  "kernelspec": {
   "display_name": "causal-inference-iot",
   "language": "python",
   "name": "python3"
  },
  "language_info": {
   "codemirror_mode": {
    "name": "ipython",
    "version": 3
   },
   "file_extension": ".py",
   "mimetype": "text/x-python",
   "name": "python",
   "nbconvert_exporter": "python",
   "pygments_lexer": "ipython3",
   "version": "3.12.7"
  }
 },
 "nbformat": 4,
 "nbformat_minor": 5
}
