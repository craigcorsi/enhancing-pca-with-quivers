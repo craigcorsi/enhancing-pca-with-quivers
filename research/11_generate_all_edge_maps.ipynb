{
 "cells": [
  {
   "cell_type": "code",
   "execution_count": 5,
   "id": "cc172a60-0d93-4380-8dfe-c3a7a319c42e",
   "metadata": {},
   "outputs": [],
   "source": [
    "import sys\n",
    "\n",
    "sys.path.append(\"../src/\")\n",
    "\n",
    "import json\n",
    "\n",
    "import pandas as pd\n",
    "import numpy as np\n",
    "\n",
    "import networkx as nx\n",
    "from data_processing.graph_encoders import *\n",
    "from quiver_utils.elementwise_models import EdgeMapRegression\n",
    "\n",
    "from sklearn.model_selection import KFold\n",
    "from sklearn.linear_model import LinearRegression"
   ]
  },
  {
   "cell_type": "code",
   "execution_count": 6,
   "id": "f5a89f37-38fe-4200-aa53-5c8d235316eb",
   "metadata": {},
   "outputs": [],
   "source": [
    "X_train = pd.read_csv('../data/crop_mapping/nodewise_PCA_train.csv')\n",
    "X_test = pd.read_csv('../data/crop_mapping/nodewise_PCA_test.csv')\n",
    "\n",
    "with open('../data/crop_mapping/reduced_nodes.json', 'r') as file:\n",
    "    node_structure = json.load(file)"
   ]
  },
  {
   "cell_type": "code",
   "execution_count": 7,
   "id": "88008f5f",
   "metadata": {},
   "outputs": [],
   "source": [
    "edgewise_lr = EdgeMapRegression(node_structure)\n",
    "rep_maps = edgewise_lr.fit_transform(X_train)"
   ]
  },
  {
   "cell_type": "code",
   "execution_count": 8,
   "id": "d59b4e2a-533e-4ca7-abcf-f8a6a3fcbac7",
   "metadata": {},
   "outputs": [],
   "source": [
    "with open('../data/crop_mapping/edge_maps.json', 'w') as file:\n",
    "    json.dump(\n",
    "        rep_maps, file,\n",
    "        cls=NumpyArrayEncoder\n",
    "    )"
   ]
  },
  {
   "cell_type": "code",
   "execution_count": null,
   "id": "6623d49c-136a-46f2-acdc-82a225caeb26",
   "metadata": {},
   "outputs": [],
   "source": []
  }
 ],
 "metadata": {
  "kernelspec": {
   "display_name": "causal-inference-iot",
   "language": "python",
   "name": "python3"
  },
  "language_info": {
   "codemirror_mode": {
    "name": "ipython",
    "version": 3
   },
   "file_extension": ".py",
   "mimetype": "text/x-python",
   "name": "python",
   "nbconvert_exporter": "python",
   "pygments_lexer": "ipython3",
   "version": "3.12.7"
  }
 },
 "nbformat": 4,
 "nbformat_minor": 5
}
