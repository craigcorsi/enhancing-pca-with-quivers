{
 "cells": [
  {
   "cell_type": "code",
   "execution_count": 1,
   "id": "88bd2754-7817-4b78-972e-ec357ad8d0b5",
   "metadata": {},
   "outputs": [],
   "source": [
    "import pandas as pd\n",
    "import numpy as np\n",
    "\n",
    "from sklearn.model_selection import StratifiedKFold\n",
    "\n",
    "from eval_utils import evaluate_model_performance_from_preprocessing\n",
    "\n",
    "from sklearn.neighbors import KNeighborsClassifier"
   ]
  },
  {
   "cell_type": "code",
   "execution_count": 2,
   "id": "ee205337-bbaa-421a-9f44-52d7f65b39d5",
   "metadata": {},
   "outputs": [],
   "source": [
    "X_quiver_eval = pd.read_csv('../data/crop_mapping/quiver_invariant_test.csv')\n",
    "X_standard_eval = pd.read_csv('../data/crop_mapping/standard_PCA_test.csv')\n",
    "\n",
    "labels_eval = pd.read_csv('../data/crop_mapping/selection_labels_test.csv')"
   ]
  },
  {
   "cell_type": "code",
   "execution_count": 3,
   "id": "7c4b2c8e-01c8-4f81-a0c3-897cb4b07f0c",
   "metadata": {},
   "outputs": [],
   "source": [
    "Xq_ev = X_quiver_eval.values\n",
    "Xs_ev = X_standard_eval.values\n",
    "\n",
    "y_ev = labels_eval.values.reshape(-1)"
   ]
  },
  {
   "cell_type": "code",
   "execution_count": 4,
   "id": "97edd7e4-a34a-49f5-9d82-dd87bc65a303",
   "metadata": {},
   "outputs": [],
   "source": [
    "# Create KFold object\n",
    "kfold = StratifiedKFold(\n",
    "    n_splits=5,\n",
    "    shuffle=True,\n",
    "    random_state=209768372\n",
    ")"
   ]
  },
  {
   "cell_type": "code",
   "execution_count": 5,
   "id": "5a0e780a-361c-4c9a-9c82-dfea0a0e5094",
   "metadata": {},
   "outputs": [],
   "source": [
    "# Set model type\n",
    "model_constructor = KNeighborsClassifier"
   ]
  },
  {
   "cell_type": "code",
   "execution_count": 6,
   "id": "1880da46-c2cf-4952-a0b8-75301e082ecc",
   "metadata": {},
   "outputs": [
    {
     "name": "stdout",
     "output_type": "stream",
     "text": [
      "Models trained and evaluated on split 0.\n",
      "Accuracy on quiver-processed data: 93.29%\n",
      "Accuracy Score on data processed with standard PCA: 94.05%\n",
      "F-test: False ((np.float64(10.435068280537877), np.float64(0.0012413694941866779)))\n",
      "\n",
      "Models trained and evaluated on split 1.\n",
      "Accuracy on quiver-processed data: 94.11%\n",
      "Accuracy Score on data processed with standard PCA: 94.37%\n",
      "F-test: False ((np.float64(1.2933017995790257), np.float64(0.25547388558603623)))\n",
      "\n",
      "Models trained and evaluated on split 2.\n",
      "Accuracy on quiver-processed data: 93.31%\n",
      "Accuracy Score on data processed with standard PCA: 94.23%\n",
      "F-test: False ((np.float64(15.874070138183873), np.float64(6.829129100379672e-05)))\n",
      "\n",
      "Models trained and evaluated on split 3.\n",
      "Accuracy on quiver-processed data: 93.17%\n",
      "Accuracy Score on data processed with standard PCA: 94.08%\n",
      "F-test: False ((np.float64(18.170760650326027), np.float64(2.042379615006213e-05)))\n",
      "\n",
      "Models trained and evaluated on split 4.\n",
      "Accuracy on quiver-processed data: 93.85%\n",
      "Accuracy Score on data processed with standard PCA: 94.57%\n",
      "F-test: False ((np.float64(11.427758928990157), np.float64(0.000726956618674894)))\n",
      "\n",
      "Mean accuracy on QPCA-processed data: 93.55%\n",
      "Mean decrease in accuracy loss: -12.39%\n",
      "Standard deviation of decrease in accuracy loss: 4.10%\n",
      "There is no significant improvement in accuracy loss when the data is preprocessed with QPCA in comparison to standard PCA.\n"
     ]
    }
   ],
   "source": [
    "params = {\n",
    "    'n_neighbors': 3,\n",
    "}\n",
    "evaluate_model_performance_from_preprocessing(Xq_ev, Xs_ev, y_ev, kfold, model_constructor, params)"
   ]
  },
  {
   "cell_type": "code",
   "execution_count": 7,
   "id": "7e7f1616-e2c8-4f3a-94fc-7991c2f0cc45",
   "metadata": {},
   "outputs": [
    {
     "name": "stdout",
     "output_type": "stream",
     "text": [
      "Models trained and evaluated on split 0.\n",
      "Accuracy on quiver-processed data: 93.34%\n",
      "Accuracy Score on data processed with standard PCA: 93.86%\n",
      "F-test: False ((np.float64(5.130512892715613), np.float64(0.023534989884443802)))\n",
      "\n",
      "Models trained and evaluated on split 1.\n",
      "Accuracy on quiver-processed data: 93.52%\n",
      "Accuracy Score on data processed with standard PCA: 94.39%\n",
      "F-test: False ((np.float64(14.984192941349578), np.float64(0.00010926432713817976)))\n",
      "\n",
      "Models trained and evaluated on split 2.\n",
      "Accuracy on quiver-processed data: 92.89%\n",
      "Accuracy Score on data processed with standard PCA: 93.61%\n",
      "F-test: False ((np.float64(10.657910482409811), np.float64(0.0011005466597413221)))\n",
      "\n",
      "Models trained and evaluated on split 3.\n",
      "Accuracy on quiver-processed data: 92.94%\n",
      "Accuracy Score on data processed with standard PCA: 93.70%\n",
      "F-test: False ((np.float64(12.181293208817484), np.float64(0.00048527231692440444)))\n",
      "\n",
      "Models trained and evaluated on split 4.\n",
      "Accuracy on quiver-processed data: 93.47%\n",
      "Accuracy Score on data processed with standard PCA: 94.22%\n",
      "F-test: False ((np.float64(11.980796235489267), np.float64(0.0005402805016455319)))\n",
      "\n",
      "Mean accuracy on QPCA-processed data: 93.23%\n",
      "Mean decrease in accuracy loss: -12.09%\n",
      "Standard deviation of decrease in accuracy loss: 2.32%\n",
      "There is no significant improvement in accuracy loss when the data is preprocessed with QPCA in comparison to standard PCA.\n"
     ]
    }
   ],
   "source": [
    "params = {\n",
    "    'n_neighbors': 5,\n",
    "}\n",
    "evaluate_model_performance_from_preprocessing(Xq_ev, Xs_ev, y_ev, kfold, model_constructor, params)"
   ]
  },
  {
   "cell_type": "code",
   "execution_count": null,
   "id": "3dfb8667-bfe3-437c-ad9e-c8d1a2578074",
   "metadata": {},
   "outputs": [],
   "source": []
  }
 ],
 "metadata": {
  "kernelspec": {
   "display_name": "Python 3 (ipykernel)",
   "language": "python",
   "name": "python3"
  },
  "language_info": {
   "codemirror_mode": {
    "name": "ipython",
    "version": 3
   },
   "file_extension": ".py",
   "mimetype": "text/x-python",
   "name": "python",
   "nbconvert_exporter": "python",
   "pygments_lexer": "ipython3",
   "version": "3.12.7"
  }
 },
 "nbformat": 4,
 "nbformat_minor": 5
}
