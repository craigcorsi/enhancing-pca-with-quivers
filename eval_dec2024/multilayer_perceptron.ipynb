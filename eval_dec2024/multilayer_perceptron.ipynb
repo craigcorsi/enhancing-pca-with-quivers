{
 "cells": [
  {
   "cell_type": "code",
   "execution_count": 1,
   "id": "88bd2754-7817-4b78-972e-ec357ad8d0b5",
   "metadata": {},
   "outputs": [],
   "source": [
    "import pandas as pd\n",
    "import numpy as np\n",
    "\n",
    "from sklearn.model_selection import StratifiedKFold\n",
    "\n",
    "from eval_utils import evaluate_model_performance_from_preprocessing\n",
    "\n",
    "from sklearn.neural_network import MLPClassifier"
   ]
  },
  {
   "cell_type": "code",
   "execution_count": 2,
   "id": "ee205337-bbaa-421a-9f44-52d7f65b39d5",
   "metadata": {},
   "outputs": [],
   "source": [
    "X_quiver_eval = pd.read_csv('../data/crop_mapping/quiver_invariant_test.csv')\n",
    "X_standard_eval = pd.read_csv('../data/crop_mapping/standard_PCA_test.csv')\n",
    "\n",
    "labels_eval = pd.read_csv('../data/crop_mapping/selection_labels_test.csv')"
   ]
  },
  {
   "cell_type": "code",
   "execution_count": 3,
   "id": "7c4b2c8e-01c8-4f81-a0c3-897cb4b07f0c",
   "metadata": {},
   "outputs": [],
   "source": [
    "Xq_ev = X_quiver_eval.values\n",
    "Xs_ev = X_standard_eval.values\n",
    "\n",
    "y_ev = labels_eval.values.reshape(-1)"
   ]
  },
  {
   "cell_type": "code",
   "execution_count": 4,
   "id": "97edd7e4-a34a-49f5-9d82-dd87bc65a303",
   "metadata": {},
   "outputs": [],
   "source": [
    "# Create KFold object\n",
    "kfold = StratifiedKFold(\n",
    "    n_splits=5,\n",
    "    shuffle=True,\n",
    "    random_state=209768372\n",
    ")"
   ]
  },
  {
   "cell_type": "code",
   "execution_count": 5,
   "id": "5a0e780a-361c-4c9a-9c82-dfea0a0e5094",
   "metadata": {},
   "outputs": [],
   "source": [
    "# Set model type\n",
    "model_constructor = MLPClassifier"
   ]
  },
  {
   "cell_type": "code",
   "execution_count": 6,
   "id": "48f14645-1c71-47bb-a3d0-b1976a0de633",
   "metadata": {},
   "outputs": [
    {
     "name": "stdout",
     "output_type": "stream",
     "text": [
      "Models trained and evaluated on split 0.\n",
      "Accuracy on quiver-processed data: 91.42%\n",
      "Accuracy Score on data processed with standard PCA: 87.34%\n",
      "F-test: True ((np.float64(172.08577716443241), np.float64(6.430501218446761e-39)))\n",
      "\n",
      "Models trained and evaluated on split 1.\n",
      "Accuracy on quiver-processed data: 91.31%\n",
      "Accuracy Score on data processed with standard PCA: 87.89%\n",
      "F-test: True ((np.float64(134.04269393590144), np.float64(9.312731555810707e-31)))\n",
      "\n",
      "Models trained and evaluated on split 2.\n",
      "Accuracy on quiver-processed data: 90.44%\n",
      "Accuracy Score on data processed with standard PCA: 88.43%\n",
      "F-test: True ((np.float64(43.5696079456664), np.float64(4.348069297527178e-11)))\n",
      "\n",
      "Models trained and evaluated on split 3.\n",
      "Accuracy on quiver-processed data: 91.35%\n",
      "Accuracy Score on data processed with standard PCA: 88.61%\n",
      "F-test: True ((np.float64(78.07248124599435), np.float64(1.2024014397773506e-18)))\n",
      "\n",
      "Models trained and evaluated on split 4.\n",
      "Accuracy on quiver-processed data: 91.18%\n",
      "Accuracy Score on data processed with standard PCA: 88.19%\n",
      "F-test: True ((np.float64(94.65848176244735), np.float64(2.991200101768588e-22)))\n",
      "\n",
      "Mean accuracy on QPCA-processed data: 91.14%\n",
      "Mean decrease in accuracy loss: 25.45%\n",
      "Standard deviation of decrease in accuracy loss: 4.94%\n",
      "There is a significant improvement in accuracy loss when the data is preprocessed with QPCA in comparison to standard PCA.\n"
     ]
    }
   ],
   "source": [
    "# Set params and evaluate model performance\n",
    "params = {\n",
    "    'hidden_layer_sizes': (10,),\n",
    "    'activation': 'logistic',\n",
    "    'max_iter': 3000\n",
    "}\n",
    "evaluate_model_performance_from_preprocessing(Xq_ev, Xs_ev, y_ev, kfold, model_constructor, params)"
   ]
  },
  {
   "cell_type": "code",
   "execution_count": 7,
   "id": "075768eb-3e48-4520-a49b-33123379be10",
   "metadata": {},
   "outputs": [
    {
     "name": "stdout",
     "output_type": "stream",
     "text": [
      "Models trained and evaluated on split 0.\n",
      "Accuracy on quiver-processed data: 91.72%\n",
      "Accuracy Score on data processed with standard PCA: 89.42%\n",
      "F-test: True ((np.float64(69.83195029778972), np.float64(7.528387923738822e-17)))\n",
      "\n",
      "Models trained and evaluated on split 1.\n",
      "Accuracy on quiver-processed data: 91.63%\n",
      "Accuracy Score on data processed with standard PCA: 89.68%\n",
      "F-test: True ((np.float64(48.43531595010551), np.float64(3.678841951605689e-12)))\n",
      "\n",
      "Models trained and evaluated on split 2.\n",
      "Accuracy on quiver-processed data: 92.24%\n",
      "Accuracy Score on data processed with standard PCA: 89.90%\n",
      "F-test: True ((np.float64(70.83699372498211), np.float64(4.543039013663993e-17)))\n",
      "\n",
      "Models trained and evaluated on split 3.\n",
      "Accuracy on quiver-processed data: 91.76%\n",
      "Accuracy Score on data processed with standard PCA: 89.89%\n",
      "F-test: True ((np.float64(46.28033081480442), np.float64(1.097487638410824e-11)))\n",
      "\n",
      "Models trained and evaluated on split 4.\n",
      "Accuracy on quiver-processed data: 91.93%\n",
      "Accuracy Score on data processed with standard PCA: 89.81%\n",
      "F-test: True ((np.float64(52.60041774083576), np.float64(4.46382677742142e-13)))\n",
      "\n",
      "Mean accuracy on QPCA-processed data: 91.85%\n",
      "Mean decrease in accuracy loss: 20.62%\n",
      "Standard deviation of decrease in accuracy loss: 1.73%\n",
      "There is a significant improvement in accuracy loss when the data is preprocessed with QPCA in comparison to standard PCA.\n"
     ]
    }
   ],
   "source": [
    "params = {\n",
    "    'hidden_layer_sizes': (10,8),\n",
    "    'activation': 'logistic',\n",
    "    'max_iter': 3000\n",
    "}\n",
    "evaluate_model_performance_from_preprocessing(Xq_ev, Xs_ev, y_ev, kfold, model_constructor, params)"
   ]
  },
  {
   "cell_type": "code",
   "execution_count": null,
   "id": "3e646244-7f09-42d1-871b-821fe9e8e1e8",
   "metadata": {},
   "outputs": [],
   "source": []
  }
 ],
 "metadata": {
  "kernelspec": {
   "display_name": "Python 3 (ipykernel)",
   "language": "python",
   "name": "python3"
  },
  "language_info": {
   "codemirror_mode": {
    "name": "ipython",
    "version": 3
   },
   "file_extension": ".py",
   "mimetype": "text/x-python",
   "name": "python",
   "nbconvert_exporter": "python",
   "pygments_lexer": "ipython3",
   "version": "3.12.7"
  }
 },
 "nbformat": 4,
 "nbformat_minor": 5
}
