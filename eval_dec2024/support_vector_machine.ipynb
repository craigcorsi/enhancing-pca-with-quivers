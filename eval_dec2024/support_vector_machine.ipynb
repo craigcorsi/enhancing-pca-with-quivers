{
 "cells": [
  {
   "cell_type": "code",
   "execution_count": 1,
   "id": "88bd2754-7817-4b78-972e-ec357ad8d0b5",
   "metadata": {},
   "outputs": [],
   "source": [
    "import pandas as pd\n",
    "import numpy as np\n",
    "\n",
    "from sklearn.model_selection import StratifiedKFold\n",
    "\n",
    "from eval_utils import evaluate_model_performance_from_preprocessing\n",
    "\n",
    "from sklearn.svm import SVC"
   ]
  },
  {
   "cell_type": "code",
   "execution_count": 2,
   "id": "ee205337-bbaa-421a-9f44-52d7f65b39d5",
   "metadata": {},
   "outputs": [],
   "source": [
    "X_quiver_eval = pd.read_csv('../data/crop_mapping/quiver_invariant_test.csv')\n",
    "X_standard_eval = pd.read_csv('../data/crop_mapping/standard_PCA_test.csv')\n",
    "\n",
    "labels_eval = pd.read_csv('../data/crop_mapping/selection_labels_test.csv')"
   ]
  },
  {
   "cell_type": "code",
   "execution_count": 3,
   "id": "7c4b2c8e-01c8-4f81-a0c3-897cb4b07f0c",
   "metadata": {},
   "outputs": [],
   "source": [
    "Xq_ev = X_quiver_eval.values\n",
    "Xs_ev = X_standard_eval.values\n",
    "\n",
    "y_ev = labels_eval.values.reshape(-1)"
   ]
  },
  {
   "cell_type": "code",
   "execution_count": 4,
   "id": "97edd7e4-a34a-49f5-9d82-dd87bc65a303",
   "metadata": {},
   "outputs": [],
   "source": [
    "# Create KFold object\n",
    "kfold = StratifiedKFold(\n",
    "    n_splits=5,\n",
    "    shuffle=True,\n",
    "    random_state=209768372\n",
    ")"
   ]
  },
  {
   "cell_type": "code",
   "execution_count": 5,
   "id": "5a0e780a-361c-4c9a-9c82-dfea0a0e5094",
   "metadata": {},
   "outputs": [],
   "source": [
    "# Set model type\n",
    "model_constructor = SVC"
   ]
  },
  {
   "cell_type": "code",
   "execution_count": 6,
   "id": "075768eb-3e48-4520-a49b-33123379be10",
   "metadata": {},
   "outputs": [
    {
     "name": "stdout",
     "output_type": "stream",
     "text": [
      "Models trained and evaluated on split 0.\n",
      "Accuracy on quiver-processed data: 85.16%\n",
      "Accuracy Score on data processed with standard PCA: 81.05%\n",
      "F-test: True ((np.float64(132.1160310264659), np.float64(2.4196616395136325e-30)))\n",
      "\n",
      "Models trained and evaluated on split 1.\n",
      "Accuracy on quiver-processed data: 85.64%\n",
      "Accuracy Score on data processed with standard PCA: 81.31%\n",
      "F-test: True ((np.float64(152.43045921329528), np.float64(1.043073898630599e-34)))\n",
      "\n",
      "Models trained and evaluated on split 2.\n",
      "Accuracy on quiver-processed data: 86.06%\n",
      "Accuracy Score on data processed with standard PCA: 80.88%\n",
      "F-test: True ((np.float64(213.72539204102696), np.float64(8.521255124162756e-48)))\n",
      "\n",
      "Models trained and evaluated on split 3.\n",
      "Accuracy on quiver-processed data: 86.00%\n",
      "Accuracy Score on data processed with standard PCA: 81.28%\n",
      "F-test: True ((np.float64(183.12113731009066), np.float64(2.819562134481951e-41)))\n",
      "\n",
      "Models trained and evaluated on split 4.\n",
      "Accuracy on quiver-processed data: 86.00%\n",
      "Accuracy Score on data processed with standard PCA: 81.47%\n",
      "F-test: True ((np.float64(162.8790883493006), np.float64(6.007478097212822e-37)))\n",
      "\n",
      "Mean accuracy on QPCA-processed data: 85.77%\n",
      "Mean decrease in accuracy loss: 24.31%\n",
      "Standard deviation of decrease in accuracy loss: 1.83%\n",
      "There is a significant improvement in accuracy loss when the data is preprocessed with QPCA in comparison to standard PCA.\n"
     ]
    }
   ],
   "source": [
    "# Set params and evaluate model performance\n",
    "params = {\n",
    "    'kernel': 'linear'\n",
    "}\n",
    "evaluate_model_performance_from_preprocessing(Xq_ev, Xs_ev, y_ev, kfold, model_constructor, params)"
   ]
  },
  {
   "cell_type": "code",
   "execution_count": 7,
   "id": "3e646244-7f09-42d1-871b-821fe9e8e1e8",
   "metadata": {},
   "outputs": [
    {
     "name": "stdout",
     "output_type": "stream",
     "text": [
      "Models trained and evaluated on split 0.\n",
      "Accuracy on quiver-processed data: 91.34%\n",
      "Accuracy Score on data processed with standard PCA: 91.20%\n",
      "F-test: False ((np.float64(0.4464640575934049), np.float64(0.5040378907462006)))\n",
      "\n",
      "Models trained and evaluated on split 1.\n",
      "Accuracy on quiver-processed data: 91.22%\n",
      "Accuracy Score on data processed with standard PCA: 91.06%\n",
      "F-test: False ((np.float64(0.5929527598713301), np.float64(0.44130194991902083)))\n",
      "\n",
      "Models trained and evaluated on split 2.\n",
      "Accuracy on quiver-processed data: 90.88%\n",
      "Accuracy Score on data processed with standard PCA: 90.65%\n",
      "F-test: False ((np.float64(1.2939536105531972), np.float64(0.25535416223264507)))\n",
      "\n",
      "Models trained and evaluated on split 3.\n",
      "Accuracy on quiver-processed data: 91.58%\n",
      "Accuracy Score on data processed with standard PCA: 91.17%\n",
      "F-test: True ((np.float64(4.283211148911828), np.float64(0.03852209234836508)))\n",
      "\n",
      "Models trained and evaluated on split 4.\n",
      "Accuracy on quiver-processed data: 91.69%\n",
      "Accuracy Score on data processed with standard PCA: 91.49%\n",
      "F-test: False ((np.float64(1.1072943120871959), np.float64(0.29270214792237814)))\n",
      "\n",
      "Mean accuracy on QPCA-processed data: 91.34%\n",
      "Mean decrease in accuracy loss: 2.60%\n",
      "Standard deviation of decrease in accuracy loss: 1.13%\n",
      "There is no significant improvement in accuracy loss when the data is preprocessed with QPCA in comparison to standard PCA.\n"
     ]
    }
   ],
   "source": [
    "params = {\n",
    "    'kernel': 'rbf'\n",
    "}\n",
    "evaluate_model_performance_from_preprocessing(Xq_ev, Xs_ev, y_ev, kfold, model_constructor, params)"
   ]
  },
  {
   "cell_type": "code",
   "execution_count": null,
   "id": "5f69b844-51cb-40bd-85f4-2116feec1b94",
   "metadata": {},
   "outputs": [],
   "source": []
  }
 ],
 "metadata": {
  "kernelspec": {
   "display_name": "Python 3 (ipykernel)",
   "language": "python",
   "name": "python3"
  },
  "language_info": {
   "codemirror_mode": {
    "name": "ipython",
    "version": 3
   },
   "file_extension": ".py",
   "mimetype": "text/x-python",
   "name": "python",
   "nbconvert_exporter": "python",
   "pygments_lexer": "ipython3",
   "version": "3.12.7"
  }
 },
 "nbformat": 4,
 "nbformat_minor": 5
}
