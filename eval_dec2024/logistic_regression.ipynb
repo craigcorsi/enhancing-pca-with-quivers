{
 "cells": [
  {
   "cell_type": "code",
   "execution_count": 1,
   "id": "88bd2754-7817-4b78-972e-ec357ad8d0b5",
   "metadata": {},
   "outputs": [],
   "source": [
    "import pandas as pd\n",
    "import numpy as np\n",
    "\n",
    "from sklearn.model_selection import StratifiedKFold\n",
    "\n",
    "from eval_utils import evaluate_model_performance_from_preprocessing\n",
    "\n",
    "from sklearn.linear_model import LogisticRegression"
   ]
  },
  {
   "cell_type": "code",
   "execution_count": 2,
   "id": "ee205337-bbaa-421a-9f44-52d7f65b39d5",
   "metadata": {},
   "outputs": [],
   "source": [
    "X_quiver_eval = pd.read_csv('../data/crop_mapping/quiver_invariant_test.csv')\n",
    "X_standard_eval = pd.read_csv('../data/crop_mapping/standard_PCA_test.csv')\n",
    "\n",
    "labels_eval = pd.read_csv('../data/crop_mapping/selection_labels_test.csv')"
   ]
  },
  {
   "cell_type": "code",
   "execution_count": 3,
   "id": "7c4b2c8e-01c8-4f81-a0c3-897cb4b07f0c",
   "metadata": {},
   "outputs": [],
   "source": [
    "Xq_ev = X_quiver_eval.values\n",
    "Xs_ev = X_standard_eval.values\n",
    "\n",
    "y_ev = labels_eval.values.reshape(-1)"
   ]
  },
  {
   "cell_type": "code",
   "execution_count": 4,
   "id": "97edd7e4-a34a-49f5-9d82-dd87bc65a303",
   "metadata": {},
   "outputs": [],
   "source": [
    "# Create KFold object\n",
    "kfold = StratifiedKFold(\n",
    "    n_splits=5,\n",
    "    shuffle=True,\n",
    "    random_state=209768372\n",
    ")"
   ]
  },
  {
   "cell_type": "code",
   "execution_count": 5,
   "id": "5a0e780a-361c-4c9a-9c82-dfea0a0e5094",
   "metadata": {},
   "outputs": [],
   "source": [
    "# Set model type\n",
    "model_constructor = LogisticRegression"
   ]
  },
  {
   "cell_type": "code",
   "execution_count": 6,
   "id": "075768eb-3e48-4520-a49b-33123379be10",
   "metadata": {},
   "outputs": [
    {
     "name": "stdout",
     "output_type": "stream",
     "text": [
      "Models trained and evaluated on split 0.\n",
      "Accuracy on quiver-processed data: 83.59%\n",
      "Accuracy Score on data processed with standard PCA: 80.45%\n",
      "F-test: True ((np.float64(91.70241348272184), np.float64(1.3095681358441653e-21)))\n",
      "\n",
      "Models trained and evaluated on split 1.\n",
      "Accuracy on quiver-processed data: 83.91%\n",
      "Accuracy Score on data processed with standard PCA: 80.92%\n",
      "F-test: True ((np.float64(86.35176689665374), np.float64(1.9013111166901945e-20)))\n",
      "\n",
      "Models trained and evaluated on split 2.\n",
      "Accuracy on quiver-processed data: 83.78%\n",
      "Accuracy Score on data processed with standard PCA: 80.57%\n",
      "F-test: True ((np.float64(101.26494384015541), np.float64(1.107047427326599e-23)))\n",
      "\n",
      "Models trained and evaluated on split 3.\n",
      "Accuracy on quiver-processed data: 83.72%\n",
      "Accuracy Score on data processed with standard PCA: 80.63%\n",
      "F-test: True ((np.float64(89.57473523683636), np.float64(3.7931514558985806e-21)))\n",
      "\n",
      "Models trained and evaluated on split 4.\n",
      "Accuracy on quiver-processed data: 83.95%\n",
      "Accuracy Score on data processed with standard PCA: 81.24%\n",
      "F-test: True ((np.float64(72.3491756486251), np.float64(2.1253039499579997e-17)))\n",
      "\n",
      "Mean accuracy on QPCA-processed data: 83.79%\n",
      "Mean decrease in accuracy loss: 15.74%\n",
      "Standard deviation of decrease in accuracy loss: 0.68%\n",
      "There is a significant improvement in accuracy loss when the data is preprocessed with QPCA in comparison to standard PCA.\n"
     ]
    }
   ],
   "source": [
    "# Set params and evaluate model performance\n",
    "params = {\n",
    "    'penalty': 'l2',\n",
    "    'max_iter': 3000\n",
    "}\n",
    "evaluate_model_performance_from_preprocessing(Xq_ev, Xs_ev, y_ev, kfold, model_constructor, params)"
   ]
  },
  {
   "cell_type": "code",
   "execution_count": 7,
   "id": "3e646244-7f09-42d1-871b-821fe9e8e1e8",
   "metadata": {},
   "outputs": [
    {
     "name": "stdout",
     "output_type": "stream",
     "text": [
      "Models trained and evaluated on split 0.\n",
      "Accuracy on quiver-processed data: 86.76%\n",
      "Accuracy Score on data processed with standard PCA: 80.47%\n",
      "F-test: True ((np.float64(271.1558344947323), np.float64(5.901406817514582e-60)))\n",
      "\n",
      "Models trained and evaluated on split 1.\n",
      "Accuracy on quiver-processed data: 86.56%\n",
      "Accuracy Score on data processed with standard PCA: 80.91%\n",
      "F-test: True ((np.float64(233.53397532977084), np.float64(5.316953741014319e-52)))\n",
      "\n",
      "Models trained and evaluated on split 2.\n",
      "Accuracy on quiver-processed data: 86.75%\n",
      "Accuracy Score on data processed with standard PCA: 80.58%\n",
      "F-test: True ((np.float64(271.57882791111723), np.float64(4.8068774335087773e-60)))\n",
      "\n",
      "Models trained and evaluated on split 3.\n",
      "Accuracy on quiver-processed data: 86.78%\n",
      "Accuracy Score on data processed with standard PCA: 80.63%\n",
      "F-test: True ((np.float64(274.31817451415134), np.float64(1.2713275784277558e-60)))\n",
      "\n",
      "Models trained and evaluated on split 4.\n",
      "Accuracy on quiver-processed data: 87.14%\n",
      "Accuracy Score on data processed with standard PCA: 81.26%\n",
      "F-test: True ((np.float64(252.19059908450632), np.float64(5.970285576874454e-56)))\n",
      "\n",
      "Mean accuracy on QPCA-processed data: 86.80%\n",
      "Mean decrease in accuracy loss: 31.35%\n",
      "Standard deviation of decrease in accuracy loss: 0.89%\n",
      "There is a significant improvement in accuracy loss when the data is preprocessed with QPCA in comparison to standard PCA.\n"
     ]
    }
   ],
   "source": [
    "# Set params and evaluate model performance\n",
    "params = {\n",
    "    'penalty': None,\n",
    "    'max_iter': 5000\n",
    "}\n",
    "evaluate_model_performance_from_preprocessing(Xq_ev, Xs_ev, y_ev, kfold, model_constructor, params)"
   ]
  },
  {
   "cell_type": "code",
   "execution_count": null,
   "id": "e3520986-9b6a-4502-9ac7-862f5aa12227",
   "metadata": {},
   "outputs": [],
   "source": []
  }
 ],
 "metadata": {
  "kernelspec": {
   "display_name": "Python 3 (ipykernel)",
   "language": "python",
   "name": "python3"
  },
  "language_info": {
   "codemirror_mode": {
    "name": "ipython",
    "version": 3
   },
   "file_extension": ".py",
   "mimetype": "text/x-python",
   "name": "python",
   "nbconvert_exporter": "python",
   "pygments_lexer": "ipython3",
   "version": "3.12.7"
  }
 },
 "nbformat": 4,
 "nbformat_minor": 5
}
