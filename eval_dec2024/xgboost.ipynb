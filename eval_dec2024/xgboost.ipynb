{
 "cells": [
  {
   "cell_type": "code",
   "execution_count": 1,
   "id": "88bd2754-7817-4b78-972e-ec357ad8d0b5",
   "metadata": {},
   "outputs": [],
   "source": [
    "import pandas as pd\n",
    "import numpy as np\n",
    "\n",
    "from sklearn.model_selection import StratifiedKFold\n",
    "\n",
    "from eval_utils import evaluate_model_performance_from_preprocessing\n",
    "\n",
    "import xgboost"
   ]
  },
  {
   "cell_type": "code",
   "execution_count": 2,
   "id": "ee205337-bbaa-421a-9f44-52d7f65b39d5",
   "metadata": {},
   "outputs": [],
   "source": [
    "X_quiver_eval = pd.read_csv('../data/crop_mapping/quiver_invariant_test.csv')\n",
    "X_standard_eval = pd.read_csv('../data/crop_mapping/standard_PCA_test.csv')\n",
    "\n",
    "labels_eval = pd.read_csv('../data/crop_mapping/selection_labels_test.csv')"
   ]
  },
  {
   "cell_type": "code",
   "execution_count": 3,
   "id": "7c4b2c8e-01c8-4f81-a0c3-897cb4b07f0c",
   "metadata": {},
   "outputs": [],
   "source": [
    "Xq_ev = X_quiver_eval.values\n",
    "Xs_ev = X_standard_eval.values\n",
    "\n",
    "y_ev = labels_eval.values.reshape(-1) - 1"
   ]
  },
  {
   "cell_type": "code",
   "execution_count": 4,
   "id": "97edd7e4-a34a-49f5-9d82-dd87bc65a303",
   "metadata": {},
   "outputs": [],
   "source": [
    "# Create KFold object\n",
    "kfold = StratifiedKFold(\n",
    "    n_splits=5,\n",
    "    shuffle=True,\n",
    "    random_state=209768372\n",
    ")"
   ]
  },
  {
   "cell_type": "code",
   "execution_count": 5,
   "id": "5a0e780a-361c-4c9a-9c82-dfea0a0e5094",
   "metadata": {},
   "outputs": [],
   "source": [
    "# Set model type\n",
    "model_constructor = xgboost.XGBClassifier"
   ]
  },
  {
   "cell_type": "code",
   "execution_count": 6,
   "id": "075768eb-3e48-4520-a49b-33123379be10",
   "metadata": {},
   "outputs": [
    {
     "name": "stdout",
     "output_type": "stream",
     "text": [
      "Models trained and evaluated on split 0.\n",
      "Accuracy on quiver-processed data: 88.21%\n",
      "Accuracy Score on data processed with standard PCA: 87.45%\n",
      "F-test: True ((np.float64(4.420250056762831), np.float64(0.03554550995158704)))\n",
      "\n",
      "Models trained and evaluated on split 1.\n",
      "Accuracy on quiver-processed data: 87.68%\n",
      "Accuracy Score on data processed with standard PCA: 86.63%\n",
      "F-test: True ((np.float64(8.298925550660451), np.float64(0.003977230186423054)))\n",
      "\n",
      "Models trained and evaluated on split 2.\n",
      "Accuracy on quiver-processed data: 87.83%\n",
      "Accuracy Score on data processed with standard PCA: 86.49%\n",
      "F-test: True ((np.float64(13.089850780185065), np.float64(0.00029870202762939907)))\n",
      "\n",
      "Models trained and evaluated on split 3.\n",
      "Accuracy on quiver-processed data: 88.24%\n",
      "Accuracy Score on data processed with standard PCA: 87.62%\n",
      "F-test: False ((np.float64(2.87422591148198), np.float64(0.0900465516543891)))\n",
      "\n",
      "Models trained and evaluated on split 4.\n",
      "Accuracy on quiver-processed data: 88.74%\n",
      "Accuracy Score on data processed with standard PCA: 87.54%\n",
      "F-test: True ((np.float64(12.588605651118995), np.float64(0.00039029495280621285)))\n",
      "\n",
      "Mean accuracy on QPCA-processed data: 88.14%\n",
      "Mean decrease in accuracy loss: 7.71%\n",
      "Standard deviation of decrease in accuracy loss: 1.95%\n",
      "There is a significant improvement in accuracy loss when the data is preprocessed with QPCA in comparison to standard PCA.\n"
     ]
    }
   ],
   "source": [
    "# Set params and evaluate model performance\n",
    "params = {\n",
    "    'objective': 'multi:softmax',\n",
    "    'num_class': 7,\n",
    "    'learning_rate': 1.0,\n",
    "    'max_depth': 3,\n",
    "    'n_estimators': 10\n",
    "}\n",
    "evaluate_model_performance_from_preprocessing(Xq_ev, Xs_ev, y_ev, kfold, model_constructor, params)"
   ]
  },
  {
   "cell_type": "code",
   "execution_count": 7,
   "id": "51e45b7a-da33-418e-9b64-55b73aa03acf",
   "metadata": {},
   "outputs": [
    {
     "name": "stdout",
     "output_type": "stream",
     "text": [
      "Models trained and evaluated on split 0.\n",
      "Accuracy on quiver-processed data: 91.92%\n",
      "Accuracy Score on data processed with standard PCA: 90.56%\n",
      "F-test: True ((np.float64(19.007535231059762), np.float64(1.318069416748385e-05)))\n",
      "\n",
      "Models trained and evaluated on split 1.\n",
      "Accuracy on quiver-processed data: 91.72%\n",
      "Accuracy Score on data processed with standard PCA: 90.69%\n",
      "F-test: True ((np.float64(11.697494378052143), np.float64(0.0006289209924448407)))\n",
      "\n",
      "Models trained and evaluated on split 2.\n",
      "Accuracy on quiver-processed data: 91.72%\n",
      "Accuracy Score on data processed with standard PCA: 90.59%\n",
      "F-test: True ((np.float64(14.08243342014684), np.float64(0.00017618877080478922)))\n",
      "\n",
      "Models trained and evaluated on split 3.\n",
      "Accuracy on quiver-processed data: 91.88%\n",
      "Accuracy Score on data processed with standard PCA: 90.53%\n",
      "F-test: True ((np.float64(21.058793091101915), np.float64(4.520859471068989e-06)))\n",
      "\n",
      "Models trained and evaluated on split 4.\n",
      "Accuracy on quiver-processed data: 92.05%\n",
      "Accuracy Score on data processed with standard PCA: 90.89%\n",
      "F-test: True ((np.float64(15.978854893689682), np.float64(6.462046990657879e-05)))\n",
      "\n",
      "Mean accuracy on QPCA-processed data: 91.86%\n",
      "Mean decrease in accuracy loss: 12.89%\n",
      "Standard deviation of decrease in accuracy loss: 1.27%\n",
      "There is a significant improvement in accuracy loss when the data is preprocessed with QPCA in comparison to standard PCA.\n"
     ]
    }
   ],
   "source": [
    "# Set params and evaluate model performance\n",
    "params = {\n",
    "    'objective': 'multi:softmax',\n",
    "    'num_class': 7,\n",
    "    'learning_rate': 1.0,\n",
    "    'max_depth': 5,\n",
    "    'n_estimators': 10\n",
    "}\n",
    "evaluate_model_performance_from_preprocessing(Xq_ev, Xs_ev, y_ev, kfold, model_constructor, params)"
   ]
  }
 ],
 "metadata": {
  "kernelspec": {
   "display_name": "Python 3 (ipykernel)",
   "language": "python",
   "name": "python3"
  },
  "language_info": {
   "codemirror_mode": {
    "name": "ipython",
    "version": 3
   },
   "file_extension": ".py",
   "mimetype": "text/x-python",
   "name": "python",
   "nbconvert_exporter": "python",
   "pygments_lexer": "ipython3",
   "version": "3.12.7"
  }
 },
 "nbformat": 4,
 "nbformat_minor": 5
}
