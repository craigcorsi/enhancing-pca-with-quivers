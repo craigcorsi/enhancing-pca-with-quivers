{
 "cells": [
  {
   "cell_type": "code",
   "execution_count": 1,
   "id": "88bd2754-7817-4b78-972e-ec357ad8d0b5",
   "metadata": {},
   "outputs": [],
   "source": [
    "import pandas as pd\n",
    "import numpy as np\n",
    "\n",
    "from sklearn.model_selection import StratifiedKFold\n",
    "\n",
    "from eval_utils import evaluate_model_performance_from_preprocessing\n",
    "\n",
    "from sklearn.ensemble import RandomForestClassifier"
   ]
  },
  {
   "cell_type": "code",
   "execution_count": 2,
   "id": "ee205337-bbaa-421a-9f44-52d7f65b39d5",
   "metadata": {},
   "outputs": [],
   "source": [
    "X_quiver_eval = pd.read_csv('../data/crop_mapping/quiver_invariant_test.csv')\n",
    "X_standard_eval = pd.read_csv('../data/crop_mapping/standard_PCA_test.csv')\n",
    "\n",
    "labels_eval = pd.read_csv('../data/crop_mapping/selection_labels_test.csv')"
   ]
  },
  {
   "cell_type": "code",
   "execution_count": 3,
   "id": "7c4b2c8e-01c8-4f81-a0c3-897cb4b07f0c",
   "metadata": {},
   "outputs": [],
   "source": [
    "Xq_ev = X_quiver_eval.values\n",
    "Xs_ev = X_standard_eval.values\n",
    "\n",
    "y_ev = labels_eval.values.reshape(-1)"
   ]
  },
  {
   "cell_type": "code",
   "execution_count": 4,
   "id": "97edd7e4-a34a-49f5-9d82-dd87bc65a303",
   "metadata": {},
   "outputs": [],
   "source": [
    "# Create KFold object\n",
    "kfold = StratifiedKFold(\n",
    "    n_splits=5,\n",
    "    shuffle=True,\n",
    "    random_state=209768372\n",
    ")"
   ]
  },
  {
   "cell_type": "code",
   "execution_count": 5,
   "id": "5a0e780a-361c-4c9a-9c82-dfea0a0e5094",
   "metadata": {},
   "outputs": [],
   "source": [
    "# Set model type\n",
    "model_constructor = RandomForestClassifier"
   ]
  },
  {
   "cell_type": "code",
   "execution_count": 6,
   "id": "075768eb-3e48-4520-a49b-33123379be10",
   "metadata": {},
   "outputs": [
    {
     "name": "stdout",
     "output_type": "stream",
     "text": [
      "Models trained and evaluated on split 0.\n",
      "Accuracy on quiver-processed data: 78.08%\n",
      "Accuracy Score on data processed with standard PCA: 73.59%\n",
      "F-test: True ((np.float64(119.29743871588413), np.float64(1.4007747190807983e-27)))\n",
      "\n",
      "Models trained and evaluated on split 1.\n",
      "Accuracy on quiver-processed data: 78.26%\n",
      "Accuracy Score on data processed with standard PCA: 73.97%\n",
      "F-test: True ((np.float64(104.26754116947728), np.float64(2.47820004367526e-24)))\n",
      "\n",
      "Models trained and evaluated on split 2.\n",
      "Accuracy on quiver-processed data: 76.26%\n",
      "Accuracy Score on data processed with standard PCA: 72.66%\n",
      "F-test: True ((np.float64(76.88608463533689), np.float64(2.1799791328008293e-18)))\n",
      "\n",
      "Models trained and evaluated on split 3.\n",
      "Accuracy on quiver-processed data: 77.33%\n",
      "Accuracy Score on data processed with standard PCA: 74.52%\n",
      "F-test: True ((np.float64(44.26547323641881), np.float64(3.0529695693509436e-11)))\n",
      "\n",
      "Models trained and evaluated on split 4.\n",
      "Accuracy on quiver-processed data: 78.36%\n",
      "Accuracy Score on data processed with standard PCA: 74.17%\n",
      "F-test: True ((np.float64(98.30596523690379), np.float64(4.843343330963453e-23)))\n",
      "\n",
      "Mean accuracy on QPCA-processed data: 77.66%\n",
      "Mean decrease in accuracy loss: 14.79%\n",
      "Standard deviation of decrease in accuracy loss: 2.29%\n",
      "There is a significant improvement in accuracy loss when the data is preprocessed with QPCA in comparison to standard PCA.\n"
     ]
    }
   ],
   "source": [
    "# Set params and evaluate model performance\n",
    "params = {\n",
    "    'max_depth': 3,\n",
    "    'n_estimators': 20,\n",
    "    'random_state': 209768372\n",
    "}\n",
    "evaluate_model_performance_from_preprocessing(Xq_ev, Xs_ev, y_ev, kfold, model_constructor, params)"
   ]
  },
  {
   "cell_type": "code",
   "execution_count": 7,
   "id": "393dd842-b4cb-4945-93d5-93f7e367364e",
   "metadata": {},
   "outputs": [
    {
     "name": "stdout",
     "output_type": "stream",
     "text": [
      "Models trained and evaluated on split 0.\n",
      "Accuracy on quiver-processed data: 82.96%\n",
      "Accuracy Score on data processed with standard PCA: 81.51%\n",
      "F-test: True ((np.float64(16.6477398511344), np.float64(4.5434171576912053e-05)))\n",
      "\n",
      "Models trained and evaluated on split 1.\n",
      "Accuracy on quiver-processed data: 83.27%\n",
      "Accuracy Score on data processed with standard PCA: 81.74%\n",
      "F-test: True ((np.float64(18.746437358191468), np.float64(1.5109281878841602e-05)))\n",
      "\n",
      "Models trained and evaluated on split 2.\n",
      "Accuracy on quiver-processed data: 81.85%\n",
      "Accuracy Score on data processed with standard PCA: 81.05%\n",
      "F-test: True ((np.float64(4.511019509960096), np.float64(0.03370727831473999)))\n",
      "\n",
      "Models trained and evaluated on split 3.\n",
      "Accuracy on quiver-processed data: 82.56%\n",
      "Accuracy Score on data processed with standard PCA: 82.47%\n",
      "F-test: False ((np.float64(0.0735548325037349), np.float64(0.7862364551475186)))\n",
      "\n",
      "Models trained and evaluated on split 4.\n",
      "Accuracy on quiver-processed data: 83.22%\n",
      "Accuracy Score on data processed with standard PCA: 82.24%\n",
      "F-test: True ((np.float64(6.916437911480036), np.float64(0.008556789255748347)))\n",
      "\n",
      "Mean accuracy on QPCA-processed data: 82.77%\n",
      "Mean decrease in accuracy loss: 5.29%\n",
      "Standard deviation of decrease in accuracy loss: 2.81%\n",
      "There is a significant improvement in accuracy loss when the data is preprocessed with QPCA in comparison to standard PCA.\n"
     ]
    }
   ],
   "source": [
    "params = {\n",
    "    'max_depth': 5,\n",
    "    'n_estimators': 20,\n",
    "    'random_state': 209768372\n",
    "}\n",
    "evaluate_model_performance_from_preprocessing(Xq_ev, Xs_ev, y_ev, kfold, model_constructor, params)"
   ]
  },
  {
   "cell_type": "code",
   "execution_count": null,
   "id": "3e646244-7f09-42d1-871b-821fe9e8e1e8",
   "metadata": {},
   "outputs": [],
   "source": []
  }
 ],
 "metadata": {
  "kernelspec": {
   "display_name": "Python 3 (ipykernel)",
   "language": "python",
   "name": "python3"
  },
  "language_info": {
   "codemirror_mode": {
    "name": "ipython",
    "version": 3
   },
   "file_extension": ".py",
   "mimetype": "text/x-python",
   "name": "python",
   "nbconvert_exporter": "python",
   "pygments_lexer": "ipython3",
   "version": "3.12.7"
  }
 },
 "nbformat": 4,
 "nbformat_minor": 5
}
