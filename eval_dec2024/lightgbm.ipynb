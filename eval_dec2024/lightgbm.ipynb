{
 "cells": [
  {
   "cell_type": "code",
   "execution_count": 1,
   "id": "88bd2754-7817-4b78-972e-ec357ad8d0b5",
   "metadata": {},
   "outputs": [],
   "source": [
    "import pandas as pd\n",
    "import numpy as np\n",
    "\n",
    "from sklearn.model_selection import StratifiedKFold\n",
    "\n",
    "from eval_utils import evaluate_model_performance_from_preprocessing\n",
    "\n",
    "import lightgbm as lgb"
   ]
  },
  {
   "cell_type": "code",
   "execution_count": 2,
   "id": "ee205337-bbaa-421a-9f44-52d7f65b39d5",
   "metadata": {},
   "outputs": [],
   "source": [
    "X_quiver_eval = pd.read_csv('../data/crop_mapping/quiver_invariant_test.csv')\n",
    "X_standard_eval = pd.read_csv('../data/crop_mapping/standard_PCA_test.csv')\n",
    "\n",
    "labels_eval = pd.read_csv('../data/crop_mapping/selection_labels_test.csv')"
   ]
  },
  {
   "cell_type": "code",
   "execution_count": 3,
   "id": "7c4b2c8e-01c8-4f81-a0c3-897cb4b07f0c",
   "metadata": {},
   "outputs": [],
   "source": [
    "Xq_ev = X_quiver_eval.values\n",
    "Xs_ev = X_standard_eval.values\n",
    "\n",
    "y_ev = labels_eval.values.reshape(-1)"
   ]
  },
  {
   "cell_type": "code",
   "execution_count": 4,
   "id": "97edd7e4-a34a-49f5-9d82-dd87bc65a303",
   "metadata": {},
   "outputs": [],
   "source": [
    "# Create KFold object\n",
    "kfold = StratifiedKFold(\n",
    "    n_splits=5,\n",
    "    shuffle=True,\n",
    "    random_state=209768372\n",
    ")"
   ]
  },
  {
   "cell_type": "code",
   "execution_count": 5,
   "id": "5a0e780a-361c-4c9a-9c82-dfea0a0e5094",
   "metadata": {},
   "outputs": [],
   "source": [
    "# Set model type\n",
    "model_constructor = lgb.LGBMClassifier"
   ]
  },
  {
   "cell_type": "code",
   "execution_count": 6,
   "id": "075768eb-3e48-4520-a49b-33123379be10",
   "metadata": {},
   "outputs": [
    {
     "name": "stdout",
     "output_type": "stream",
     "text": [
      "Models trained and evaluated on split 0.\n",
      "Accuracy on quiver-processed data: 84.95%\n",
      "Accuracy Score on data processed with standard PCA: 84.06%\n",
      "F-test: True ((np.float64(6.448091848681847), np.float64(0.011125633424269598)))\n",
      "\n",
      "Models trained and evaluated on split 1.\n",
      "Accuracy on quiver-processed data: 84.68%\n",
      "Accuracy Score on data processed with standard PCA: 84.42%\n",
      "F-test: False ((np.float64(0.5332220968510314), np.float64(0.4652764096922043)))\n",
      "\n",
      "Models trained and evaluated on split 2.\n",
      "Accuracy on quiver-processed data: 84.61%\n",
      "Accuracy Score on data processed with standard PCA: 83.97%\n",
      "F-test: False ((np.float64(3.3146692798465844), np.float64(0.06870089326885896)))\n",
      "\n",
      "Models trained and evaluated on split 3.\n",
      "Accuracy on quiver-processed data: 84.93%\n",
      "Accuracy Score on data processed with standard PCA: 85.10%\n",
      "F-test: False ((np.float64(0.23958638261704188), np.float64(0.6245182213670654)))\n",
      "\n",
      "Models trained and evaluated on split 4.\n",
      "Accuracy on quiver-processed data: 84.94%\n",
      "Accuracy Score on data processed with standard PCA: 85.26%\n",
      "F-test: False ((np.float64(0.8666524464056711), np.float64(0.3519113753866624)))\n",
      "\n",
      "Mean accuracy on QPCA-processed data: 84.82%\n",
      "Mean decrease in accuracy loss: 1.59%\n",
      "Standard deviation of decrease in accuracy loss: 2.96%\n",
      "There is no significant improvement in accuracy loss when the data is preprocessed with QPCA in comparison to standard PCA.\n"
     ]
    }
   ],
   "source": [
    "# Set params and evaluate model performance\n",
    "params = {\n",
    "    'num_leaves': 10, \n",
    "    'min_data_in_leaf': 25,\n",
    "    'min_child_samples': None,\n",
    "    'learning_rate': 0.1, \n",
    "    'n_estimators': 10,\n",
    "    'verbosity': -1\n",
    "}\n",
    "evaluate_model_performance_from_preprocessing(Xq_ev, Xs_ev, y_ev, kfold, model_constructor, params)"
   ]
  },
  {
   "cell_type": "code",
   "execution_count": 7,
   "id": "5983ecd2-aee9-4473-87c8-5e85d4b6fbfb",
   "metadata": {},
   "outputs": [
    {
     "name": "stdout",
     "output_type": "stream",
     "text": [
      "Models trained and evaluated on split 0.\n",
      "Accuracy on quiver-processed data: 89.78%\n",
      "Accuracy Score on data processed with standard PCA: 89.19%\n",
      "F-test: False ((np.float64(3.54572557387535), np.float64(0.059734731451039594)))\n",
      "\n",
      "Models trained and evaluated on split 1.\n",
      "Accuracy on quiver-processed data: 89.59%\n",
      "Accuracy Score on data processed with standard PCA: 89.76%\n",
      "F-test: False ((np.float64(0.3234054199995723), np.float64(0.5695839755128265)))\n",
      "\n",
      "Models trained and evaluated on split 2.\n",
      "Accuracy on quiver-processed data: 89.82%\n",
      "Accuracy Score on data processed with standard PCA: 89.11%\n",
      "F-test: True ((np.float64(5.499775468902253), np.float64(0.01904284030795718)))\n",
      "\n",
      "Models trained and evaluated on split 3.\n",
      "Accuracy on quiver-processed data: 89.43%\n",
      "Accuracy Score on data processed with standard PCA: 89.48%\n",
      "F-test: False ((np.float64(0.026312636590278826), np.float64(0.8711431768482655)))\n",
      "\n",
      "Models trained and evaluated on split 4.\n",
      "Accuracy on quiver-processed data: 90.02%\n",
      "Accuracy Score on data processed with standard PCA: 89.71%\n",
      "F-test: False ((np.float64(1.1343200177032573), np.float64(0.2868873845839476)))\n",
      "\n",
      "Mean accuracy on QPCA-processed data: 89.73%\n",
      "Mean decrease in accuracy loss: 2.57%\n",
      "Standard deviation of decrease in accuracy loss: 3.22%\n",
      "There is no significant improvement in accuracy loss when the data is preprocessed with QPCA in comparison to standard PCA.\n"
     ]
    }
   ],
   "source": [
    "# Set params and evaluate model performance\n",
    "params = {\n",
    "    'num_leaves': 35, \n",
    "    'min_data_in_leaf': 15,\n",
    "    'min_child_samples': None,\n",
    "    'learning_rate': 0.1, \n",
    "    'n_estimators': 10,\n",
    "    'verbosity': -1\n",
    "}\n",
    "evaluate_model_performance_from_preprocessing(Xq_ev, Xs_ev, y_ev, kfold, model_constructor, params)"
   ]
  },
  {
   "cell_type": "code",
   "execution_count": 8,
   "id": "3e646244-7f09-42d1-871b-821fe9e8e1e8",
   "metadata": {},
   "outputs": [
    {
     "name": "stdout",
     "output_type": "stream",
     "text": [
      "Models trained and evaluated on split 0.\n",
      "Accuracy on quiver-processed data: 90.53%\n",
      "Accuracy Score on data processed with standard PCA: 89.87%\n",
      "F-test: True ((np.float64(4.439476567935409), np.float64(0.03514757156302616)))\n",
      "\n",
      "Models trained and evaluated on split 1.\n",
      "Accuracy on quiver-processed data: 90.28%\n",
      "Accuracy Score on data processed with standard PCA: 90.13%\n",
      "F-test: False ((np.float64(0.24240164637738354), np.float64(0.6224901727799674)))\n",
      "\n",
      "Models trained and evaluated on split 2.\n",
      "Accuracy on quiver-processed data: 90.45%\n",
      "Accuracy Score on data processed with standard PCA: 89.92%\n",
      "F-test: False ((np.float64(3.216529199555331), np.float64(0.07293521150957831)))\n",
      "\n",
      "Models trained and evaluated on split 3.\n",
      "Accuracy on quiver-processed data: 90.09%\n",
      "Accuracy Score on data processed with standard PCA: 89.96%\n",
      "F-test: False ((np.float64(0.20968497974797742), np.float64(0.6470266680893766)))\n",
      "\n",
      "Models trained and evaluated on split 4.\n",
      "Accuracy on quiver-processed data: 90.80%\n",
      "Accuracy Score on data processed with standard PCA: 90.44%\n",
      "F-test: False ((np.float64(1.515411416179222), np.float64(0.2183508295324216)))\n",
      "\n",
      "Mean accuracy on QPCA-processed data: 90.43%\n",
      "Mean decrease in accuracy loss: 3.65%\n",
      "Standard deviation of decrease in accuracy loss: 2.01%\n",
      "There is no significant improvement in accuracy loss when the data is preprocessed with QPCA in comparison to standard PCA.\n"
     ]
    }
   ],
   "source": [
    "# Set params and evaluate model performance\n",
    "params = {\n",
    "    'num_leaves': 50, \n",
    "    'min_data_in_leaf': 10,\n",
    "    'min_child_samples': None,\n",
    "    'learning_rate': 0.1, \n",
    "    'n_estimators': 10,\n",
    "    'verbosity': -1\n",
    "}\n",
    "evaluate_model_performance_from_preprocessing(Xq_ev, Xs_ev, y_ev, kfold, model_constructor, params)"
   ]
  },
  {
   "cell_type": "code",
   "execution_count": null,
   "id": "a2beb2dd-e701-4c47-a34d-93da8169b2ca",
   "metadata": {},
   "outputs": [],
   "source": []
  }
 ],
 "metadata": {
  "kernelspec": {
   "display_name": "Python 3 (ipykernel)",
   "language": "python",
   "name": "python3"
  },
  "language_info": {
   "codemirror_mode": {
    "name": "ipython",
    "version": 3
   },
   "file_extension": ".py",
   "mimetype": "text/x-python",
   "name": "python",
   "nbconvert_exporter": "python",
   "pygments_lexer": "ipython3",
   "version": "3.12.7"
  }
 },
 "nbformat": 4,
 "nbformat_minor": 5
}
